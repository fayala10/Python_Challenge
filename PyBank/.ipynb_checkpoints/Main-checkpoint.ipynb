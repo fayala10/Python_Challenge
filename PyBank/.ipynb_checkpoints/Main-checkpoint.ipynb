{
 "cells": [
  {
   "cell_type": "code",
   "execution_count": 4,
   "metadata": {},
   "outputs": [],
   "source": [
    "import csv\n",
    "from pathlib import Path"
   ]
  },
  {
   "cell_type": "code",
   "execution_count": 9,
   "metadata": {},
   "outputs": [],
   "source": [
    "co_financials = Path(\"Resources/budget_data.csv\")"
   ]
  },
  {
   "cell_type": "code",
   "execution_count": 18,
   "metadata": {},
   "outputs": [
    {
     "name": "stdout",
     "output_type": "stream",
     "text": [
      "86\n",
      "38382578.0\n"
     ]
    }
   ],
   "source": [
    "with open(co_financials) as Pybank_Financials:\n",
    "    reader = csv.reader(Pybank_Financials)\n",
    "    header = next(reader)\n",
    "    total_months = 0\n",
    "    total_new_pl = 0 \n",
    "    for row in reader:\n",
    "        total_months = total_months + 1\n",
    "        total_new_pl = total_new_pl + float(row[1])\n",
    "        \n",
    "# Total numbers of months    \n",
    "    print(total_months)\n",
    "    \n",
    "# Total amount of Profit and Loss\n",
    "    print(round(total_new_pl, 2))\n",
    "    "
   ]
  },
  {
   "cell_type": "code",
   "execution_count": null,
   "metadata": {},
   "outputs": [],
   "source": []
  },
  {
   "cell_type": "code",
   "execution_count": null,
   "metadata": {},
   "outputs": [],
   "source": []
  }
 ],
 "metadata": {
  "kernelspec": {
   "display_name": "Python 3",
   "language": "python",
   "name": "python3"
  },
  "language_info": {
   "codemirror_mode": {
    "name": "ipython",
    "version": 3
   },
   "file_extension": ".py",
   "mimetype": "text/x-python",
   "name": "python",
   "nbconvert_exporter": "python",
   "pygments_lexer": "ipython3",
   "version": "3.8.3"
  }
 },
 "nbformat": 4,
 "nbformat_minor": 4
}
