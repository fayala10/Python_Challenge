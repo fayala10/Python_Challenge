{
 "cells": [
  {
   "cell_type": "code",
   "execution_count": 45,
   "metadata": {},
   "outputs": [],
   "source": [
    "import csv\n",
    "from pathlib import Path"
   ]
  },
  {
   "cell_type": "code",
   "execution_count": 56,
   "metadata": {},
   "outputs": [],
   "source": [
    "co_financials = Path(\"Resources/budget_data.csv\")"
   ]
  },
  {
   "cell_type": "code",
   "execution_count": 57,
   "metadata": {},
   "outputs": [
    {
     "ename": "SyntaxError",
     "evalue": "invalid syntax (<ipython-input-57-01fe97807522>, line 35)",
     "output_type": "error",
     "traceback": [
      "\u001b[1;36m  File \u001b[1;32m\"<ipython-input-57-01fe97807522>\"\u001b[1;36m, line \u001b[1;32m35\u001b[0m\n\u001b[1;33m    else\u001b[0m\n\u001b[1;37m         ^\u001b[0m\n\u001b[1;31mSyntaxError\u001b[0m\u001b[1;31m:\u001b[0m invalid syntax\n"
     ]
    }
   ],
   "source": [
    "with open(co_financials) as Pybank_Financials:\n",
    "    reader = csv.reader(Pybank_Financials)\n",
    "    header = next(reader)\n",
    "    total_months = 0\n",
    "    total_new_pl = 0 \n",
    "    sum_change = int(-867884)\n",
    "    old_pl = 0\n",
    "    net_change =int(row[1]) - old_pl\n",
    "    \n",
    "    greatest_increase = 0\n",
    "    greatest_decrease = 0\n",
    "    \n",
    "    for row in reader:\n",
    "        sum_change = sum_change + int(row[1])-old_pl\n",
    "        old_pl = int(row[1])\n",
    "        total_months = total_months + 1\n",
    "        total_new_pl = total_new_pl + int(row[1])\n",
    "        \n",
    "# Total numbers of months\n",
    "    print(\"Financial Analysis\")\n",
    "    print(f\"total months: {total_months}\")\n",
    "    \n",
    "# Total amount of Profit and Loss\n",
    "    print(f\"Total Amount of P&L: {total_new_pl:.2f}\")\n",
    "    \n",
    "# Average Profit and Loss over entire period\n",
    "# Average change = row[1]   \n",
    "    average_sum = sum_change / (total_months -1)\n",
    "    print(f\"Average change: {average_sum}\")\n",
    "    \n",
    "# Greatest increase in profits\n",
    "    if net_change > greatest_increase[1]:\n",
    "        greatest_increase[0] = row[0]\n",
    "        greatest_increase[1] = net_change\n",
    "     \n",
    "        \n",
    "\n",
    "# Greatest decrease in profits\n",
    "    #if net_change < greatest_decrease[1]:\n",
    "        #greatest_decrease[0] = row[0]\n",
    "        #greatest_decrease[1] = net_change\n",
    "    "
   ]
  },
  {
   "cell_type": "code",
   "execution_count": null,
   "metadata": {},
   "outputs": [],
   "source": []
  },
  {
   "cell_type": "code",
   "execution_count": null,
   "metadata": {},
   "outputs": [],
   "source": []
  }
 ],
 "metadata": {
  "kernelspec": {
   "display_name": "Python 3",
   "language": "python",
   "name": "python3"
  },
  "language_info": {
   "codemirror_mode": {
    "name": "ipython",
    "version": 3
   },
   "file_extension": ".py",
   "mimetype": "text/x-python",
   "name": "python",
   "nbconvert_exporter": "python",
   "pygments_lexer": "ipython3",
   "version": "3.8.3"
  }
 },
 "nbformat": 4,
 "nbformat_minor": 4
}
