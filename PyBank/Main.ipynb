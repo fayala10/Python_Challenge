{
 "cells": [
  {
   "cell_type": "code",
   "execution_count": 62,
   "metadata": {},
   "outputs": [],
   "source": [
    "import csv\n",
    "from pathlib import Path"
   ]
  },
  {
   "cell_type": "code",
   "execution_count": 63,
   "metadata": {},
   "outputs": [],
   "source": [
    "co_financials = Path(\"Resources/budget_data.csv\")"
   ]
  },
  {
   "cell_type": "code",
   "execution_count": 69,
   "metadata": {},
   "outputs": [
    {
     "name": "stdout",
     "output_type": "stream",
     "text": [
      "Financial Analysis\n",
      "total months: 86\n",
      "Total Amount of P&L: 38382578.00\n",
      "Average change: -2315.1176470588234\n",
      "Greatest increase in profits:1926159\n",
      "Feb-2012\n",
      "Greatest decrease in profits:-2196167\n",
      "Sep-2013\n"
     ]
    }
   ],
   "source": [
    "with open(co_financials) as Pybank_Financials:\n",
    "    reader = csv.reader(Pybank_Financials)\n",
    "    header = next(reader)\n",
    "    total_months = 0\n",
    "    total_new_pl = 0 \n",
    "    sum_change = int(-867884)\n",
    "    old_pl = 0\n",
    "    net_change =int(row[1]) - old_pl\n",
    "    new_max_diff = 0\n",
    "    new_min_diff = 0\n",
    "    new_max_date = \"\"\n",
    "    new_min_date = \"\"   \n",
    "    \n",
    "    for row in reader:\n",
    "        \n",
    "        sum_change = sum_change + int(row[1])-old_pl\n",
    "        total_months = total_months + 1\n",
    "        total_new_pl = total_new_pl + int(row[1])\n",
    "        if int(row[1]) - old_pl > new_max_diff:\n",
    "        \n",
    "            new_max_diff = int(row[1]) - old_pl\n",
    "            new_max_date = row[0]\n",
    "        \n",
    "        if int(row[1]) - old_pl < new_min_diff:\n",
    "            new_min_diff = int(row[1]) - old_pl\n",
    "            new_min_date = row[0]\n",
    "        \n",
    "        old_pl = int(row[1])\n",
    "        \n",
    "           \n",
    "# Total numbers of months\n",
    "    print(\"Financial Analysis\")\n",
    "    print(f\"total months: {total_months}\")\n",
    "    \n",
    "# Total amount of Profit and Loss\n",
    "    print(f\"Total Amount of P&L: {total_new_pl:.2f}\")\n",
    "    \n",
    "# Average Profit and Loss over entire period\n",
    "# Average change = row[1]   \n",
    "    average_sum = sum_change / (total_months -1)\n",
    "    print(f\"Average change: {average_sum}\")\n",
    "    \n",
    "# Greatest increase in Profits\n",
    "    print(f\"Greatest increase in profits:{new_max_diff}\")    \n",
    "    print(new_max_date)\n",
    "    \n",
    "#Greatest decerase in Profits\n",
    "    print(f\"Greatest decrease in profits:{new_min_diff}\")\n",
    "    print(new_min_date)\n",
    "         \n",
    "        \n",
    "        "
   ]
  },
  {
   "cell_type": "code",
   "execution_count": null,
   "metadata": {},
   "outputs": [],
   "source": []
  },
  {
   "cell_type": "code",
   "execution_count": null,
   "metadata": {},
   "outputs": [],
   "source": []
  }
 ],
 "metadata": {
  "kernelspec": {
   "display_name": "Python 3",
   "language": "python",
   "name": "python3"
  },
  "language_info": {
   "codemirror_mode": {
    "name": "ipython",
    "version": 3
   },
   "file_extension": ".py",
   "mimetype": "text/x-python",
   "name": "python",
   "nbconvert_exporter": "python",
   "pygments_lexer": "ipython3",
   "version": "3.8.3"
  }
 },
 "nbformat": 4,
 "nbformat_minor": 4
}
